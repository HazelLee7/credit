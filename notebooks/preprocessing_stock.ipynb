{
 "cells": [
  {
   "cell_type": "markdown",
   "id": "9876bd23-c8aa-425b-9b0d-30a1b7e6677a",
   "metadata": {},
   "source": [
    "Convert all stock data into USD"
   ]
  },
  {
   "cell_type": "code",
   "execution_count": 1,
   "id": "71ac8018-234c-47cb-9abb-77d9380c72de",
   "metadata": {
    "tags": []
   },
   "outputs": [],
   "source": [
    "import pandas as pd\n",
    "import numpy as np"
   ]
  },
  {
   "cell_type": "code",
   "execution_count": 2,
   "id": "81e7f93c-5056-4f02-842a-d9cbdc33e758",
   "metadata": {},
   "outputs": [],
   "source": [
    "from pathlib import Path\n",
    "import pandas as pd\n",
    "CWD = Path.cwd().resolve()\n",
    "PROJECT_ROOT = CWD if (CWD / \"data\").exists() else CWD.parent\n",
    "DATA = PROJECT_ROOT / \"data\""
   ]
  },
  {
   "cell_type": "code",
   "execution_count": 3,
   "id": "23e4adac-82db-4c53-9afc-6f68acb82314",
   "metadata": {},
   "outputs": [],
   "source": [
    "exchange = pd.read_csv(DATA / \"raw\"/ 'exchange_rate.csv')\n",
    "exchange = exchange.dropna()\n",
    "exchange[\"datadate\"] = pd.to_datetime(exchange[\"datadate\"])\n",
    "exchange[\"year\"] = exchange[\"datadate\"].dt.year  \n",
    "years = exchange[\"year\"].unique()"
   ]
  },
  {
   "cell_type": "code",
   "execution_count": 4,
   "id": "ce2f9dd5-ed51-4076-88a5-442dae3c94e3",
   "metadata": {},
   "outputs": [],
   "source": [
    "exchange.rename(columns={\"curd\": \"curcdd\"}, inplace=True)\n",
    "exchange.rename(columns={'exratd_tousd': 'exchange_rate'}, inplace=True)"
   ]
  },
  {
   "cell_type": "code",
   "execution_count": null,
   "id": "59d7c2a1-70f0-45ff-928c-721097964d78",
   "metadata": {},
   "outputs": [],
   "source": []
  },
  {
   "cell_type": "code",
   "execution_count": 5,
   "id": "ae5f5d73-b26f-4130-b7ce-28f7d91886b5",
   "metadata": {
    "tags": []
   },
   "outputs": [],
   "source": [
    "results = []\n",
    "for year in years:\n",
    "    chunk = pd.read_csv(DATA / \"raw\"/ \"stock_price\" / \"global_stock\" / f\"{year}.csv\")\n",
    "    chunk['datadate'] = pd.to_datetime(chunk['datadate'])\n",
    "    chunk['year'] = chunk['datadate'].dt.year\n",
    "    chunk['prccd_sh'] = chunk['prccd']/chunk['qunit']\n",
    "    \n",
    "    # Merge chunk with exchange rates\n",
    "    chunk = chunk.merge(\n",
    "        exchange[['datadate', 'curcdd', 'exchange_rate']],\n",
    "        how='left',  \n",
    "        on=['datadate', 'curcdd']  \n",
    ")\n",
    "\n",
    "\n",
    "    chunk['prccm'] =chunk['prccd_sh']*chunk['exchange_rate']\n",
    "    \n",
    "    temp_result = chunk.groupby(['gvkey', 'year']).agg({  \n",
    "    'prccd_sh': 'mean',\n",
    "    'prccm': 'mean',  \n",
    "    'cshoc': 'mean',\n",
    "        'qunit':'mean',\n",
    "        'exchange_rate':'max'\n",
    "}).reset_index()\n",
    "   \n",
    "\n",
    "    results.append(temp_result)  \n",
    "   "
   ]
  },
  {
   "cell_type": "code",
   "execution_count": 6,
   "id": "195c0d83-4608-4f68-9b76-5ce01b7063c5",
   "metadata": {},
   "outputs": [],
   "source": [
    "final_result = pd.concat(results).groupby(['gvkey', 'year']).agg({  \n",
    "    'prccm': 'mean',  \n",
    "    'cshoc': 'mean',  \n",
    "}).reset_index()  "
   ]
  },
  {
   "cell_type": "code",
   "execution_count": 7,
   "id": "43590bf7-5748-48d3-bdb7-306368ef8901",
   "metadata": {},
   "outputs": [],
   "source": [
    "final_result['cshoc'] = final_result[\"cshoc\"].mul(1/1000000, axis=0)\n",
    "final_result=final_result[final_result['year']<=2024]"
   ]
  },
  {
   "cell_type": "code",
   "execution_count": 8,
   "id": "084a88f9-040a-4502-8983-c807ef16aebc",
   "metadata": {},
   "outputs": [],
   "source": [
    "final_result.to_csv(DATA / \"global_stock_annual.csv\", index=False)"
   ]
  },
  {
   "cell_type": "code",
   "execution_count": null,
   "id": "3d6d8715-b60c-4461-b369-0eb78b60f2e0",
   "metadata": {},
   "outputs": [],
   "source": []
  },
  {
   "cell_type": "code",
   "execution_count": 9,
   "id": "18d3cbc5-90c9-44f6-a8f1-6a642a8c6a4d",
   "metadata": {},
   "outputs": [],
   "source": [
    "year_inter = [1997,2000,2006,2010,2015,2020] #data are downloaded in intervals, 1997.csv contains data between 1997 and 1999,...."
   ]
  },
  {
   "cell_type": "code",
   "execution_count": 10,
   "id": "5e1da78c-94b8-4766-926b-93c8ba15692c",
   "metadata": {},
   "outputs": [],
   "source": [
    "results_na = []\n",
    "for year in year_inter:\n",
    "    chunk = pd.read_csv(DATA / \"raw\"/ \"stock_price\" / \"north_american_stock\" / f\"{year}.csv\")\n",
    "    chunk['datadate'] = pd.to_datetime(chunk['datadate'])\n",
    "    chunk['year'] = chunk['datadate'].dt.year\n",
    "    \n",
    "    \n",
    "    \n",
    "    chunk = chunk.merge(\n",
    "        exchange[['datadate', 'curcdd', 'exchange_rate']], \n",
    "        how='left', \n",
    "        on=['datadate', 'curcdd']  \n",
    ")\n",
    "\n",
    "\n",
    "    chunk['prccm'] =chunk['prccd']*chunk['exchange_rate']\n",
    "    \n",
    "   \n",
    "    temp_result = chunk.groupby(['gvkey', 'year']).agg({  \n",
    "    'prccd': 'mean',\n",
    "    'prccm': 'mean',  \n",
    "    'cshoc': 'mean',\n",
    "        'exchange_rate':'max'\n",
    "}).reset_index()\n",
    "   \n",
    "\n",
    "    results_na.append(temp_result)  "
   ]
  },
  {
   "cell_type": "code",
   "execution_count": 11,
   "id": "d4660c79-3aa9-45f2-990f-a4773b1fa37a",
   "metadata": {},
   "outputs": [],
   "source": [
    "final_result_na = pd.concat(results_na).groupby(['gvkey', 'year']).agg({  \n",
    "    'prccm': 'mean',  \n",
    "    'cshoc': 'mean',  \n",
    "}).reset_index()  "
   ]
  },
  {
   "cell_type": "code",
   "execution_count": 12,
   "id": "ed67e261-986b-430b-b613-d91ff585be34",
   "metadata": {},
   "outputs": [],
   "source": [
    "final_result_na['cshoc'] = final_result_na[\"cshoc\"].mul(1/1000000, axis=0)"
   ]
  },
  {
   "cell_type": "code",
   "execution_count": 13,
   "id": "3ea56b27-6e31-475e-bb3e-97b8d9067637",
   "metadata": {},
   "outputs": [],
   "source": [
    "final_result_na.to_csv(DATA / \"na_stock_annual.csv\", index=False)"
   ]
  },
  {
   "cell_type": "code",
   "execution_count": null,
   "id": "58f29984-c79c-45df-8e81-29f58b001ec7",
   "metadata": {},
   "outputs": [],
   "source": []
  }
 ],
 "metadata": {
  "kernelspec": {
   "display_name": "Python 3",
   "language": "python",
   "name": "python3"
  },
  "language_info": {
   "codemirror_mode": {
    "name": "ipython",
    "version": 3
   },
   "file_extension": ".py",
   "mimetype": "text/x-python",
   "name": "python",
   "nbconvert_exporter": "python",
   "pygments_lexer": "ipython3",
   "version": "3.8.8"
  }
 },
 "nbformat": 4,
 "nbformat_minor": 5
}
