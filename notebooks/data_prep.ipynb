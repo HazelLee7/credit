{
 "cells": [
  {
   "cell_type": "code",
   "execution_count": 1,
   "id": "dcc8e4a5",
   "metadata": {},
   "outputs": [],
   "source": [
    "import pandas as pd\n",
    "import numpy as np\n",
    "\n",
    "import re\n",
    "import statsmodels.api as sm"
   ]
  },
  {
   "cell_type": "code",
   "execution_count": 2,
   "id": "395517b3-fe91-485b-99fb-393582bed1fe",
   "metadata": {},
   "outputs": [],
   "source": [
    "from pathlib import Path\n",
    "import pandas as pd\n",
    "CWD = Path.cwd().resolve()\n",
    "PROJECT_ROOT = CWD if (CWD / \"data\").exists() else CWD.parent\n",
    "DATA = PROJECT_ROOT / \"data\""
   ]
  },
  {
   "cell_type": "code",
   "execution_count": 3,
   "id": "1a66214f-ecc9-4954-b4fa-23ce61f5778d",
   "metadata": {
    "tags": []
   },
   "outputs": [],
   "source": [
    "rating_map = {\n",
    "    \"AAA\": 23, \"AA+\": 22, \"AA\": 21, \"AA-\": 20,\n",
    "    \"A+\": 19, \"A\": 18, \"A-\": 17,\n",
    "    \"BBB+\": 16, \"BBB\": 15, \"BBB-\": 14,\n",
    "    \"BB+\": 13, \"BB\": 12, \"BB-\": 11,\n",
    "    \"B+\": 10, \"B\": 9, \"B-\": 8,\n",
    "    \"CCC+\": 7, \"CCC\": 6, \"CCC-\": 5,\n",
    "    \"CC\": 4, \"C\": 3, \"SD\": 2, \"D\": 1,\n",
    "}\n",
    "\n",
    "\n",
    "def encode_rating(rating):\n",
    "    \"\"\"Encode a given rating string into its corresponding numerical value.\"\"\"\n",
    "    base_rating = rating.split()[0]  \n",
    "    base_rating = re.sub(r'^[a-z]+|[a-z]+$|/.*', '', base_rating)\n",
    "    return rating_map.get(base_rating, 2) "
   ]
  },
  {
   "cell_type": "markdown",
   "id": "f7d1deb9-6e46-40b8-8f9a-88e3abefb858",
   "metadata": {},
   "source": [
    "Convert all metrics into USD"
   ]
  },
  {
   "cell_type": "code",
   "execution_count": 4,
   "id": "25ced83e-4c11-47f5-812e-7d1bd50ea1b6",
   "metadata": {},
   "outputs": [],
   "source": [
    "exchange = pd.read_csv(DATA / \"raw\"/ 'exchange_rate.csv')\n",
    "exchange = exchange.dropna()\n",
    "exchange[\"year\"] = pd.to_datetime(exchange[\"datadate\"]).dt.year \n",
    "df_grouped = exchange.groupby([\"curd\", \"year\"])[\"exratd_tousd\"].mean().reset_index()\n",
    "exchange_pivot = df_grouped.pivot(index=\"year\", columns=\"curd\", values=\"exratd_tousd\").reset_index()\n",
    "exchange_pivot = exchange_pivot.set_index(\"year\")"
   ]
  },
  {
   "cell_type": "code",
   "execution_count": 5,
   "id": "b77c1aef-01e0-4e7c-916c-16040d810398",
   "metadata": {},
   "outputs": [
    {
     "name": "stdout",
     "output_type": "stream",
     "text": [
      "(912573, 25) (358071, 25)\n"
     ]
    }
   ],
   "source": [
    "financialgl = pd.read_csv(DATA / \"raw\"/ 'global_financial.csv')\n",
    "financialus = pd.read_csv(DATA / \"raw\"/ 'north_america_financial.csv')\n",
    "financialus.rename(columns={\"curncd\": \"curcd\"})\n",
    "print(financialgl.shape,financialus.shape)"
   ]
  },
  {
   "cell_type": "code",
   "execution_count": 6,
   "id": "d33244e1-2b9a-416b-8e50-f08782f8f0a9",
   "metadata": {},
   "outputs": [],
   "source": [
    "financial = pd.concat([financialus, financialgl], ignore_index=True, sort=False)\n",
    "financial['year']  = financial['fyear']\n",
    "financial = financial.drop_duplicates(subset=['gvkey', 'year'])\n",
    "financial['ni'] =  financial['ni'].fillna(financial['nicon'])\n",
    "financial = financial.drop(columns=['nicon'])"
   ]
  },
  {
   "cell_type": "code",
   "execution_count": 7,
   "id": "04f06e55-00a5-4b15-94ba-1801d19b6b84",
   "metadata": {
    "tags": []
   },
   "outputs": [],
   "source": [
    "cols_to_match = ['at',  'ceq', 'ch', 'dltt', 'ebit','lct', 'lt', 'ni', 'oiadp',  're', 'revt', 'sale','wcap', 'xint']"
   ]
  },
  {
   "cell_type": "code",
   "execution_count": 8,
   "id": "c61bb922-21be-416c-89dc-2d54e1d2acd2",
   "metadata": {},
   "outputs": [],
   "source": [
    "financial[ \"exchange_rate\"]  = financial.apply(lambda row: exchange_pivot.loc[row[\"year\"], row[\"curcd\"]] if row[\"year\"] in exchange_pivot.index and row[\"curcd\"] in exchange_pivot.columns else None,axis=1) \n",
    "financial[cols_to_match] =financial[cols_to_match].mul(financial[\"exchange_rate\"], axis = 0)"
   ]
  },
  {
   "cell_type": "markdown",
   "id": "926a6007-348f-44b7-ac0f-23e19f8ec113",
   "metadata": {},
   "source": [
    "Merge stock price data"
   ]
  },
  {
   "cell_type": "code",
   "execution_count": 9,
   "id": "3c6627f8-9d42-4dbd-b528-724c58a69dce",
   "metadata": {},
   "outputs": [],
   "source": [
    "security_us = pd.read_csv(DATA / 'na_stock_annual.csv')\n",
    "security_g = pd.read_csv(DATA / 'global_stock_annual.csv')"
   ]
  },
  {
   "cell_type": "code",
   "execution_count": 10,
   "id": "41e22a95-c674-4e16-99c1-ebb336ea43de",
   "metadata": {},
   "outputs": [],
   "source": [
    "financial = financial.merge(security_g, on=['gvkey','year'], how='left')\n",
    "financial = financial.merge(security_us, on=['gvkey','year'], how='left')"
   ]
  },
  {
   "cell_type": "code",
   "execution_count": 11,
   "id": "6dc355ee-a65b-4c39-bfe4-9b92dd8c09e5",
   "metadata": {},
   "outputs": [],
   "source": [
    "financial['prccm'] = financial[['prccm_x', 'prccm_y']].max(axis=1, skipna=True)"
   ]
  },
  {
   "cell_type": "code",
   "execution_count": 12,
   "id": "023871e4-8251-42a0-80b1-755961e9a478",
   "metadata": {},
   "outputs": [],
   "source": [
    "financial['csho_combined'] = financial[['cshoi', 'csho', 'cshoc_y','cshoc_x']].max(axis=1, skipna=True)\n",
    "financial['mkt_value'] = financial[\"csho_combined\"]*financial[\"prccm\"]"
   ]
  },
  {
   "cell_type": "markdown",
   "id": "23abd4a2-aaee-4c1c-b1d1-318936bbc016",
   "metadata": {},
   "source": [
    "Compute finanical metrics"
   ]
  },
  {
   "cell_type": "code",
   "execution_count": 13,
   "id": "4389b180-0ab0-407e-b058-7416d815c8a9",
   "metadata": {},
   "outputs": [],
   "source": [
    "# Profitability Ratios\n",
    "financial[\"ICOV\"] = np.where(financial[\"xint\"] <= 0, np.inf, financial[\"ebit\"]/financial[\"xint\"]) \n",
    "financial[\"ROA\"] = np.where(financial[\"at\"] > 0, financial[\"ni\"] / financial[\"at\"], np.nan)\n",
    "financial[\"OM\"] = np.where(financial[\"revt\"] != 0, financial[\"oiadp\"] / financial[\"revt\"], np.nan)\n",
    "\n",
    "# Leverage Ratios\n",
    "financial[\"LDTC\"] = np.where((financial[\"lt\"] + financial[\"ceq\"]) != 0, financial[\"dltt\"] / (financial[\"lt\"] + financial[\"ceq\"]), np.nan)\n",
    "financial[\"SDTD\"] = np.where(financial[\"lt\"] != 0, financial[\"lct\"] / financial[\"lt\"], np.nan)"
   ]
  },
  {
   "cell_type": "code",
   "execution_count": 14,
   "id": "15ed9591-a3d6-4ee6-816d-8a5c57ea4024",
   "metadata": {},
   "outputs": [],
   "source": [
    "ratios = ['ROA', 'LDTC', 'ICOV', 'SDTD', 'OM']\n",
    "for col in ratios:\n",
    "    max_finite = financial[col][np.isfinite(financial[col])].max()\n",
    "    min_finite = financial[col][np.isfinite(financial[col])].min()\n",
    "    financial[col].replace([np.inf], max_finite, inplace=True)\n",
    "    financial[col].replace([-np.inf], min_finite, inplace=True)"
   ]
  },
  {
   "cell_type": "code",
   "execution_count": 15,
   "id": "822dcf57-7966-4b7e-9519-6aa2d95c1294",
   "metadata": {},
   "outputs": [],
   "source": [
    "financial['X1'] = financial['wcap'] / abs(financial['at'])\n",
    "financial['X2'] = financial['re'] / abs(financial['at'])\n",
    "financial['X3'] = financial['ebit'] /abs(financial['at'])\n",
    "financial['X4'] = np.where(financial['lt']<=0, np.inf, financial['mkt_value'] /abs(financial['lt']))\n",
    "financial['X5'] = financial['sale'] / abs(financial['at'])"
   ]
  },
  {
   "cell_type": "code",
   "execution_count": 16,
   "id": "c8537d43-a15b-492b-8369-080b3eb1ee45",
   "metadata": {},
   "outputs": [],
   "source": [
    "Xs = ['X1', 'X2','X3','X4','X5']\n",
    "for col in Xs:\n",
    "    max_finite = financial[col][np.isfinite(financial[col])].max()\n",
    "    min_finite = financial[col][np.isfinite(financial[col])].min()\n",
    "    financial[col].replace([np.inf], max_finite, inplace=True)\n",
    "    financial[col].replace([-np.inf], min_finite, inplace=True)"
   ]
  },
  {
   "cell_type": "code",
   "execution_count": 17,
   "id": "46e9996a-5e89-458a-ad23-9258f2624d5f",
   "metadata": {},
   "outputs": [],
   "source": [
    "# Compute Altman's Z-score\n",
    "financial['Z_score'] = (1.2 * financial['X1'] + \n",
    "                        1.4 * financial['X2'] + \n",
    "                        3.3 * financial['X3'] + \n",
    "                        0.6 * financial['X4'] + \n",
    "                        1.0 * financial['X5'])"
   ]
  },
  {
   "cell_type": "code",
   "execution_count": 18,
   "id": "2589423c-0fe8-4531-9c78-ec0a34d46544",
   "metadata": {},
   "outputs": [],
   "source": [
    "financial.to_csv(DATA / \"financial.csv\", index=False)"
   ]
  },
  {
   "cell_type": "markdown",
   "id": "094d9e0f-facf-40ea-a878-7286c43205b8",
   "metadata": {},
   "source": [
    "Credit data preprocessing"
   ]
  },
  {
   "cell_type": "code",
   "execution_count": 19,
   "id": "c5149b7d-1efa-46ec-bc55-d566f4bf2955",
   "metadata": {},
   "outputs": [],
   "source": [
    "credit = pd.read_csv(DATA / \"raw\"/ 'ratingdata.csv')"
   ]
  },
  {
   "cell_type": "code",
   "execution_count": 20,
   "id": "f44c8632",
   "metadata": {
    "tags": []
   },
   "outputs": [],
   "source": [
    "credit['date_column'] = pd.to_datetime(credit['ratingdate'])\n",
    "years = np.sort(credit['date_column'].dt.year.unique())\n",
    "credit['year'] = credit['date_column'].dt.year\n",
    "credit = credit[credit['ratingtypecode'].str.contains('LONG', na=False)]\n",
    "credit = credit[credit['currentratingsymbol'] != 'NR']\n",
    "credit = credit[credit['currentratingsymbol'] != 'NR prelim']\n",
    "credit['numeric_rating'] = credit['currentratingsymbol'].apply(encode_rating)"
   ]
  },
  {
   "cell_type": "code",
   "execution_count": 21,
   "id": "269ca0c9-bc67-42c0-b0a9-e176f6915efa",
   "metadata": {},
   "outputs": [],
   "source": [
    "governs = credit[credit['sectordescription'] == 'Governments']"
   ]
  },
  {
   "cell_type": "code",
   "execution_count": 22,
   "id": "1aae23cd-0c86-45d4-8836-e85259fd0b22",
   "metadata": {},
   "outputs": [],
   "source": [
    "credit = credit[credit['sectordescription'] == 'Corporates']"
   ]
  },
  {
   "cell_type": "code",
   "execution_count": 23,
   "id": "d065a77b",
   "metadata": {},
   "outputs": [],
   "source": [
    "credit = credit[credit['priorratingsymbol'].str.strip().str.contains(\"NR\", na=True, case=False) | credit['priorratingsymbol'].str.strip().eq(\"\")]\n",
    "credit = credit.loc[credit.groupby('entity_id')['year'].idxmin()]"
   ]
  },
  {
   "cell_type": "code",
   "execution_count": 24,
   "id": "afee76fd-196f-4397-93f5-2fda03d06749",
   "metadata": {},
   "outputs": [],
   "source": [
    "credit = credit.groupby('industrydescription').filter(lambda x: 'Y' in x['unsol'].values)# Filter industries with 'unsol' == 'Y' "
   ]
  },
  {
   "cell_type": "code",
   "execution_count": 25,
   "id": "e4d27931-7836-4582-b8e8-29ed743fb419",
   "metadata": {},
   "outputs": [],
   "source": [
    "#countryrating\n",
    "merged = credit.merge(governs, on=\"countrycode\", suffixes=(\"_credit\", \"_governs\"))\n",
    "merged = merged[merged[\"year_governs\"] < merged[\"year_credit\"]]\n",
    "avg_ratings = (\n",
    "    merged.groupby([\"countrycode\", \"year_credit\"])[\"numeric_rating_governs\"]\n",
    "    .mean()\n",
    "    .reset_index()\n",
    "    .rename(columns={\"year_credit\": \"year\", \"numeric_rating_governs\": \"countryrating\"})\n",
    ")\n",
    "credit = credit.merge(avg_ratings, on=[\"countrycode\", \"year\"], how=\"left\")"
   ]
  },
  {
   "cell_type": "code",
   "execution_count": 26,
   "id": "85a82959-a3a2-4e05-a5d5-1f08a6b1b6f1",
   "metadata": {},
   "outputs": [],
   "source": [
    "credit.to_csv(DATA / \"creditdata.csv\", index=False)"
   ]
  },
  {
   "cell_type": "markdown",
   "id": "792b27cc-7769-4aee-915d-bc40dcdb0c28",
   "metadata": {},
   "source": [
    "Merge creidt and financial data"
   ]
  },
  {
   "cell_type": "code",
   "execution_count": 27,
   "id": "62e3d22b-d9cc-48f2-86bb-4bd209d73bcc",
   "metadata": {},
   "outputs": [],
   "source": [
    "cols_to_match =['ch','wcap',  'ICOV', 'ROA',  'LDTC', 'SDTD',  'OM',  'Z_score', 'xint', 'lt']\n",
    "merged_df = credit.merge(financial, on='gvkey', suffixes=('_credit', '_financial'), how=\"left\")\n",
    "merged_df = merged_df[(merged_df['year_financial'] < merged_df['year_credit'] )& (merged_df['year_financial'] >= merged_df['year_credit'] -3)]\n",
    "avg_values_df = merged_df.groupby('gvkey')[cols_to_match].mean()\n",
    "final_result = credit.merge(avg_values_df, on='gvkey', how='left')\n"
   ]
  },
  {
   "cell_type": "code",
   "execution_count": 28,
   "id": "d5121649-a740-4198-9268-a69b82058ae2",
   "metadata": {},
   "outputs": [],
   "source": [
    "final_result[\"unsol\"] = final_result[\"unsol\"].map({\"N\": 1, \"Y\": 0})"
   ]
  },
  {
   "cell_type": "code",
   "execution_count": 29,
   "id": "b94e4282-7762-45a5-b26b-087e7f0add63",
   "metadata": {},
   "outputs": [],
   "source": [
    "cols_to_match = ['ch', 'wcap', 'ROA',  'ICOV', 'LDTC', 'SDTD',  'OM',  'Z_score']"
   ]
  },
  {
   "cell_type": "code",
   "execution_count": 30,
   "id": "6cf9f7af-e3c0-4b87-8f53-4152fc32cca2",
   "metadata": {},
   "outputs": [],
   "source": [
    "for rs in cols_to_match:\n",
    "    Q1 = final_result[rs].quantile(0.25)\n",
    "    Q3 = final_result[rs].quantile(0.75)\n",
    "    IQR = Q3 - Q1\n",
    "    lower_fence = Q1 - 1.5 * IQR\n",
    "    upper_fence = Q3 + 1.5 * IQR\n",
    "    lower_extreme_fence = Q1 - 3 * IQR\n",
    "    upper_extreme_fence = Q3 + 3 * IQR\n",
    "    final_result[rs] = final_result[rs].clip(lower_extreme_fence, upper_extreme_fence)"
   ]
  },
  {
   "cell_type": "code",
   "execution_count": 31,
   "id": "bbb9c67e-c743-43fe-9182-b8aa086dc09c",
   "metadata": {},
   "outputs": [],
   "source": [
    "final_result.to_csv(DATA / \"combined.csv\", index=False)"
   ]
  },
  {
   "cell_type": "code",
   "execution_count": null,
   "id": "799776a4-4eda-4b01-96e4-b82d400bc4b5",
   "metadata": {},
   "outputs": [],
   "source": []
  },
  {
   "cell_type": "markdown",
   "id": "06de1c70-7d2d-49b6-bd20-e6f7f8c0f969",
   "metadata": {},
   "source": [
    "Industry-focused "
   ]
  },
  {
   "cell_type": "code",
   "execution_count": 32,
   "id": "4b57b82f-622e-43c1-8f8d-7b1c7b43a6be",
   "metadata": {},
   "outputs": [],
   "source": [
    "credit = pd.read_csv(DATA / \"raw\"/ 'ratingdata.csv')\n",
    "credit = credit[~credit['currentratingsymbol'].str.contains(\"NR\", case=False, na=False)]\n",
    "credit['numeric_rating'] = credit['currentratingsymbol'].apply(encode_rating)\n",
    "credit['ratingdate'] = pd.to_datetime(credit['ratingdate'], errors='coerce')\n",
    "credit['year'] = credit['ratingdate'].dt.year\n",
    "years = np.sort(credit['ratingdate'].dt.year.unique())\n",
    "governs = credit[credit['sectordescription'] == 'Governments']\n",
    "credit = credit[credit['ratingtypecode'].str.contains('LONG', na=False)]"
   ]
  },
  {
   "cell_type": "code",
   "execution_count": 33,
   "id": "4065fb41-07c6-46b0-ac9f-078a27a09057",
   "metadata": {},
   "outputs": [],
   "source": [
    "credit = credit[credit['sectordescription'] == 'Financial Institutions']\n",
    "credit = credit[credit['priorratingsymbol'].str.strip().str.contains(\"NR\", na=True, case=False) | credit['priorratingsymbol'].str.strip().eq(\"\")]"
   ]
  },
  {
   "cell_type": "code",
   "execution_count": 34,
   "id": "daa5cd13-4362-4a88-a385-32a3f35314bf",
   "metadata": {},
   "outputs": [],
   "source": [
    "credit = credit.groupby('industrydescription').filter(lambda x: 'Y' in x['unsol'].values)\n",
    "credit = credit.loc[credit.groupby('entity_id')['year'].idxmin()]"
   ]
  },
  {
   "cell_type": "code",
   "execution_count": 35,
   "id": "69d5e709-0dc4-4547-a8d7-9d2b4da50020",
   "metadata": {},
   "outputs": [],
   "source": [
    "merged = credit.merge(governs, on=\"countrycode\", suffixes=(\"_credit\", \"_governs\"))\n",
    "merged = merged[merged[\"year_governs\"] < merged[\"year_credit\"]]\n",
    "avg_ratings = (\n",
    "    merged.groupby([\"countrycode\", \"year_credit\"])[\"numeric_rating_governs\"]\n",
    "    .mean()\n",
    "    .reset_index()\n",
    "    .rename(columns={\"year_credit\": \"year\", \"numeric_rating_governs\": \"countryrating\"})\n",
    ")\n",
    "credit = credit.merge(avg_ratings, on=[\"countrycode\", \"year\"], how=\"left\")"
   ]
  },
  {
   "cell_type": "code",
   "execution_count": 36,
   "id": "19ae6f32-6263-4d61-9362-751db1be3733",
   "metadata": {},
   "outputs": [],
   "source": [
    "merged_df = credit.merge(financial, on='gvkey', suffixes=('_credit', '_financial'), how=\"left\")\n",
    "merged_df = merged_df[(merged_df['year_financial'] < merged_df['year_credit'] )& (merged_df['year_financial'] >= merged_df['year_credit'] -3)]\n",
    "avg_values_df = merged_df.groupby('gvkey')[cols_to_match].mean()\n",
    "final_result = credit.merge(avg_values_df, on='gvkey', how='left')"
   ]
  },
  {
   "cell_type": "code",
   "execution_count": 37,
   "id": "b1c84de2-5110-472c-a44b-ea2ffffd87c3",
   "metadata": {},
   "outputs": [],
   "source": [
    "final_result[\"unsol\"] = final_result[\"unsol\"].map({\"N\": 1, \"Y\": 0})"
   ]
  },
  {
   "cell_type": "code",
   "execution_count": 38,
   "id": "545f848b-3b32-4181-832b-3350773221a4",
   "metadata": {},
   "outputs": [],
   "source": [
    "for rs in cols_to_match:\n",
    "    Q1 = final_result[rs].quantile(0.25)\n",
    "    Q3 = final_result[rs].quantile(0.75)\n",
    "    IQR = Q3 - Q1\n",
    "    lower_fence = Q1 - 1.5 * IQR\n",
    "    upper_fence = Q3 + 1.5 * IQR\n",
    "    lower_extreme_fence = Q1 - 3 * IQR\n",
    "    upper_extreme_fence = Q3 + 3 * IQR\n",
    "    final_result[rs] = final_result[rs].clip(lower_extreme_fence, upper_extreme_fence)"
   ]
  },
  {
   "cell_type": "code",
   "execution_count": 39,
   "id": "3be8da30-438e-4839-b470-86c23e7d4927",
   "metadata": {},
   "outputs": [],
   "source": [
    "final_result.to_csv(DATA / \"combined_industry.csv\", index=False)"
   ]
  },
  {
   "cell_type": "code",
   "execution_count": null,
   "id": "60caab85-08ea-4cbf-868b-a525db618fcd",
   "metadata": {},
   "outputs": [],
   "source": []
  },
  {
   "cell_type": "markdown",
   "id": "690524a5-d40d-41ef-a462-a6b1d363315d",
   "metadata": {},
   "source": [
    "Empirical calibration"
   ]
  },
  {
   "cell_type": "code",
   "execution_count": 40,
   "id": "9110ce62-2368-4973-bebc-46c319e4d8e7",
   "metadata": {},
   "outputs": [],
   "source": [
    "credit = pd.read_csv(DATA / \"raw\"/ 'ratingdata.csv')\n",
    "financial = pd.read_csv(DATA / \"financial.csv\", low_memory=False)\n",
    "credit['ratingdate'] = pd.to_datetime(credit['ratingdate'], errors='coerce')\n",
    "credit['year'] = credit['ratingdate'].dt.year\n",
    "years = np.sort(credit['year'].dropna().unique())[:-1]\n",
    "credit = credit[credit['sectordescription'] == 'Corporates']\n",
    "credit['numeric_rating'] = credit['currentratingsymbol'].apply(encode_rating)\n",
    "credit = credit[credit['ratingtypecode'].str.contains('LONG', na=False)]\n",
    "credit = credit[~credit['currentratingsymbol'].str.contains(\"NR\", case=False, na=False)]\n",
    "cols_to_match = ['lt', 'xint']"
   ]
  },
  {
   "cell_type": "code",
   "execution_count": 41,
   "id": "e3814f0a-7262-4c0b-9d25-56b3747871a0",
   "metadata": {
    "tags": []
   },
   "outputs": [],
   "source": [
    "credit_n = pd.DataFrame(columns = credit.columns)"
   ]
  },
  {
   "cell_type": "code",
   "execution_count": 42,
   "id": "b4c62d70-47a3-4c27-bc35-fda9311f6dcc",
   "metadata": {
    "tags": []
   },
   "outputs": [],
   "source": [
    "#if a company has both sol and unsol in one year, mark it as a solicited firm\n",
    "for year in years:\n",
    "    year_df = credit[credit['year'] == year]\n",
    "    mask = year_df.groupby('entity_id')['unsol'].transform(lambda x: 'Y' in x.values and 'N' in x.values)\n",
    "    year_df.loc[mask, 'unsol'] = 'N'\n",
    "    credit_n = pd.concat([credit_n, year_df], ignore_index=True)"
   ]
  },
  {
   "cell_type": "code",
   "execution_count": 43,
   "id": "0c326d97-bda1-4a52-886d-56ecf6a39bb7",
   "metadata": {
    "tags": []
   },
   "outputs": [],
   "source": [
    "# Iterate through each year\n",
    "for year in years:\n",
    "    year_df = credit_n[credit_n['year'] <= year]\n",
    "    year_sin = year_df.groupby('countrycode').filter(lambda x: 'Y' in x['unsol'].values)# Filter countries with 'unsol' == 'Y' \n",
    "    year_sin = year_sin.groupby(\"entity_id\").tail(1).reset_index(drop=True)\n",
    "    merged_df = year_sin.merge(financial, on='gvkey', suffixes=('_credit', '_financial'), how=\"left\")\n",
    "    merged_df = merged_df[(merged_df['year_financial'] <= merged_df['year_credit'] )& (merged_df['year_financial'] > merged_df['year_credit'] -3)]\n",
    "    avg_values_df = merged_df.groupby('gvkey')[cols_to_match].mean()\n",
    "    final_result = year_sin.merge(avg_values_df, on='gvkey', how='left')\n",
    "    final_result[\"unsol\"] = final_result[\"unsol\"].map({\"N\": 1, \"Y\": 0})\n",
    "    final_result.to_csv(DATA / \"calibration\" / f\"{year}_whole.csv\", index=False)"
   ]
  },
  {
   "cell_type": "code",
   "execution_count": null,
   "id": "64c3edba-cdce-409d-b2ea-ffabbbbea0f2",
   "metadata": {},
   "outputs": [],
   "source": []
  },
  {
   "cell_type": "code",
   "execution_count": null,
   "id": "29a7c13e-8e52-411f-b534-c9a6a8b1a4f3",
   "metadata": {},
   "outputs": [],
   "source": []
  },
  {
   "cell_type": "code",
   "execution_count": null,
   "id": "eeabd7c3-7c7e-41c8-a9d1-1e09c15c62ae",
   "metadata": {},
   "outputs": [],
   "source": []
  },
  {
   "cell_type": "code",
   "execution_count": null,
   "id": "6e639f9f-a93a-437d-aba9-175a5d84e110",
   "metadata": {},
   "outputs": [],
   "source": []
  }
 ],
 "metadata": {
  "kernelspec": {
   "display_name": "Python 3",
   "language": "python",
   "name": "python3"
  },
  "language_info": {
   "codemirror_mode": {
    "name": "ipython",
    "version": 3
   },
   "file_extension": ".py",
   "mimetype": "text/x-python",
   "name": "python",
   "nbconvert_exporter": "python",
   "pygments_lexer": "ipython3",
   "version": "3.8.8"
  },
  "toc-autonumbering": false,
  "toc-showmarkdowntxt": true
 },
 "nbformat": 4,
 "nbformat_minor": 5
}
